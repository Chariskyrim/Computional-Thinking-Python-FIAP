{
 "cells": [
  {
   "cell_type": "markdown",
   "metadata": {},
   "source": [
    "### Olá felpsipi"
   ]
  },
  {
   "cell_type": "markdown",
   "metadata": {},
   "source": [
    "### Aprendendo sobre listas <br>\n",
    "#### Aprendemos a utilizar os **principais** métodos que manipulam uma lista"
   ]
  },
  {
   "cell_type": "markdown",
   "metadata": {},
   "source": [
    "Método list() - Inicia uma lista como vazia"
   ]
  },
  {
   "cell_type": "code",
   "execution_count": 41,
   "metadata": {},
   "outputs": [
    {
     "name": "stdout",
     "output_type": "stream",
     "text": [
      "[]\n"
     ]
    }
   ],
   "source": [
    "lista = list()\n",
    "print(lista)"
   ]
  },
  {
   "cell_type": "markdown",
   "metadata": {},
   "source": [
    "Criando uma lista com valores "
   ]
  },
  {
   "cell_type": "code",
   "execution_count": 42,
   "metadata": {},
   "outputs": [
    {
     "name": "stdout",
     "output_type": "stream",
     "text": [
      "['1ESPR', 1, 'Edson', True, 56.7]\n"
     ]
    }
   ],
   "source": [
    "lista = [\"1ESPR\", 1, \"Edson\", True, 56.7]\n",
    "print(lista)"
   ]
  },
  {
   "cell_type": "markdown",
   "metadata": {},
   "source": [
    "Método `append(elemento)` - insere um elemento no final da lista"
   ]
  },
  {
   "cell_type": "code",
   "execution_count": 43,
   "metadata": {},
   "outputs": [
    {
     "name": "stdout",
     "output_type": "stream",
     "text": [
      "['1ESPR', 1, 'Edson', True, 56.7, 'novo']\n"
     ]
    }
   ],
   "source": [
    "lista.append(\"novo\")\n",
    "print(lista)"
   ]
  },
  {
   "cell_type": "markdown",
   "metadata": {},
   "source": [
    "Método `insert(posição, elemento)` - Insere um elemento em qualquer posição válida da lista."
   ]
  },
  {
   "cell_type": "code",
   "execution_count": 44,
   "metadata": {},
   "outputs": [
    {
     "name": "stdout",
     "output_type": "stream",
     "text": [
      "['1ESPR', 1, 'FIAP', 'Edson', True, 56.7, 'novo']\n"
     ]
    }
   ],
   "source": [
    "lista.insert(2, \"FIAP\")\n",
    "print(lista)"
   ]
  },
  {
   "cell_type": "markdown",
   "metadata": {},
   "source": [
    "Método `pop(posicao)` - Remove o elemento especificado via posicao"
   ]
  },
  {
   "cell_type": "code",
   "execution_count": 45,
   "metadata": {},
   "outputs": [
    {
     "name": "stdout",
     "output_type": "stream",
     "text": [
      "['1ESPR', 1, 'FIAP', 'Edson', True, 56.7]\n"
     ]
    }
   ],
   "source": [
    "lista.pop()\n",
    "print(lista)"
   ]
  },
  {
   "cell_type": "markdown",
   "metadata": {},
   "source": [
    "Método `remove(elemento)` - Remove um elemento pelo conteúdo"
   ]
  },
  {
   "cell_type": "code",
   "execution_count": 46,
   "metadata": {},
   "outputs": [
    {
     "name": "stdout",
     "output_type": "stream",
     "text": [
      "['1ESPR', 'FIAP', 'Edson', True, 56.7]\n"
     ]
    }
   ],
   "source": [
    "lista.remove(True)\n",
    "print(lista)"
   ]
  },
  {
   "cell_type": "code",
   "execution_count": 47,
   "metadata": {},
   "outputs": [
    {
     "name": "stdout",
     "output_type": "stream",
     "text": [
      "['1ESPR', 'FIAP', True, 'Edson', True, 56.7]\n"
     ]
    }
   ],
   "source": [
    "lista.insert(2, True)\n",
    "print(lista)"
   ]
  },
  {
   "cell_type": "markdown",
   "metadata": {},
   "source": [
    "Método index(elemento) - Retorna o indice do elemento citado"
   ]
  },
  {
   "cell_type": "code",
   "execution_count": 51,
   "metadata": {},
   "outputs": [
    {
     "name": "stdout",
     "output_type": "stream",
     "text": [
      "Índice = 0\n"
     ]
    }
   ],
   "source": [
    "lista = [22, 57.7, \"Lógica\"]\n",
    "indice = lista.index(57.7)\n",
    "print(f\"Índice = {indice}\")"
   ]
  },
  {
   "cell_type": "markdown",
   "metadata": {},
   "source": [
    "Método `count(elemento)` - Conta a ocorrencia de um mesmo elemento"
   ]
  },
  {
   "cell_type": "code",
   "execution_count": 50,
   "metadata": {},
   "outputs": [
    {
     "name": "stdout",
     "output_type": "stream",
     "text": [
      "Quantidade = 2\n"
     ]
    }
   ],
   "source": [
    "lista = [22, 57.7, \"Lógica\", 22]\n",
    "quantidade = lista.count(22)\n",
    "print(f\"Quantidade = {quantidade}\")"
   ]
  },
  {
   "cell_type": "markdown",
   "metadata": {},
   "source": [
    "Função len(lista) - Conta a quantidade de elementos"
   ]
  },
  {
   "cell_type": "code",
   "execution_count": 54,
   "metadata": {},
   "outputs": [
    {
     "name": "stdout",
     "output_type": "stream",
     "text": [
      "Quantidade = 4\n"
     ]
    }
   ],
   "source": [
    "lista = [22, 57.7, \"Lógica\", 22]\n",
    "quantidade = len(lista)\n",
    "print(f\"Quantidade = {quantidade}\")"
   ]
  },
  {
   "cell_type": "markdown",
   "metadata": {},
   "source": [
    "Função `sum(lista)` - soma os elementos da lista"
   ]
  },
  {
   "cell_type": "code",
   "execution_count": 55,
   "metadata": {},
   "outputs": [
    {
     "name": "stdout",
     "output_type": "stream",
     "text": [
      "Soma = 101.7\n"
     ]
    }
   ],
   "source": [
    "lista = [22, 57.7, 22]\n",
    "soma = sum(lista)\n",
    "print(f\"Soma = {soma}\")"
   ]
  },
  {
   "cell_type": "markdown",
   "metadata": {},
   "source": [
    "Concatenação + - Junta duas listas"
   ]
  },
  {
   "cell_type": "code",
   "execution_count": 56,
   "metadata": {},
   "outputs": [
    {
     "name": "stdout",
     "output_type": "stream",
     "text": [
      "Lista1 = [1, 2, 3]\n",
      "Lista2 = [4, 5, 6]\n",
      "Lista3 = [1, 2, 3, 4, 5, 6]\n"
     ]
    }
   ],
   "source": [
    "lista1 = [1, 2, 3]\n",
    "lista2 = [4, 5, 6]\n",
    "lista3 = lista1 + lista2\n",
    "print(f\"Lista1 = {lista1}\")\n",
    "print(f\"Lista2 = {lista2}\")\n",
    "print(f\"Lista3 = {lista3}\")\n"
   ]
  },
  {
   "cell_type": "markdown",
   "metadata": {},
   "source": [
    "Método extended(lista) - Adiciona uma lista no final da outra"
   ]
  },
  {
   "cell_type": "code",
   "execution_count": 57,
   "metadata": {},
   "outputs": [
    {
     "name": "stdout",
     "output_type": "stream",
     "text": [
      "Lista1 = [1, 2, 3]\n",
      "Lista1 = [4, 5, 6]\n",
      "Lista1 = [4, 5, 6, 1, 2, 3]\n"
     ]
    }
   ],
   "source": [
    "lista1 = [1, 2, 3]\n",
    "print(f\"Lista1 = {lista1}\")\n",
    "lista2 = [4, 5, 6]\n",
    "print(f\"Lista2 = {lista2}\")\n",
    "lista2.extend (lista1)\n",
    "print(f\"Lista2 = {lista2}\")"
   ]
  },
  {
   "cell_type": "code",
   "execution_count": 60,
   "metadata": {},
   "outputs": [
    {
     "name": "stdout",
     "output_type": "stream",
     "text": [
      "[1, 2, 3]\n",
      "[1, 2, 3]\n",
      "[1, 2, 3, 10]\n",
      "[1, 2, 3, 10]\n"
     ]
    }
   ],
   "source": [
    "l1 = [1, 2, 3]\n",
    "l2 = l1\n",
    "print(l1)\n",
    "print(l2)\n",
    "l1.append(10)\n",
    "print(l1)\n",
    "print(l2)"
   ]
  },
  {
   "cell_type": "code",
   "execution_count": 61,
   "metadata": {},
   "outputs": [
    {
     "name": "stdout",
     "output_type": "stream",
     "text": [
      "[1, 2, 3]\n",
      "[1, 2, 3, 10]\n",
      "[1, 2, 3]\n"
     ]
    }
   ],
   "source": [
    "l1 = [1, 2, 3]\n",
    "print(l1)\n",
    "l2 = l1.copy()\n",
    "l1.append(10)\n",
    "print(l1)\n",
    "print(l2)"
   ]
  },
  {
   "cell_type": "code",
   "execution_count": 62,
   "metadata": {},
   "outputs": [
    {
     "name": "stdout",
     "output_type": "stream",
     "text": [
      "[19, 3, 25, 33, -5]\n",
      "[-5, 3, 19, 25, 33]\n",
      "[33, 25, 19, 3, -5]\n"
     ]
    }
   ],
   "source": [
    "lista = [19, 3, 25, 33, -5]\n",
    "print(lista)\n",
    "lista.sort()\n",
    "print(lista)\n",
    "lista.sort(reverse=True)\n",
    "print(lista)"
   ]
  },
  {
   "cell_type": "code",
   "execution_count": 63,
   "metadata": {},
   "outputs": [
    {
     "name": "stdout",
     "output_type": "stream",
     "text": [
      "[-5, 33, 25, 4, 19]\n"
     ]
    }
   ],
   "source": [
    "lista = [19, 4, 25, 33, -5]\n",
    "lista.reverse()\n",
    "print(lista)"
   ]
  },
  {
   "cell_type": "code",
   "execution_count": 64,
   "metadata": {},
   "outputs": [
    {
     "name": "stdout",
     "output_type": "stream",
     "text": [
      "[19, 4, 25, 33, -5]\n",
      "[]\n"
     ]
    }
   ],
   "source": [
    "lista = [19, 4, 25, 33, -5]\n",
    "print(lista)\n",
    "lista.clear()\n",
    "print(lista)"
   ]
  },
  {
   "cell_type": "code",
   "execution_count": 66,
   "metadata": {},
   "outputs": [
    {
     "name": "stdout",
     "output_type": "stream",
     "text": [
      "[19, 4, 25, 33, -5]\n"
     ]
    }
   ],
   "source": [
    "lista = [19, 4, 25, 33, -5]\n",
    "print(lista)\n",
    "del lista\n",
    "#print(lista)"
   ]
  }
 ],
 "metadata": {
  "kernelspec": {
   "display_name": "Python 3",
   "language": "python",
   "name": "python3"
  },
  "language_info": {
   "codemirror_mode": {
    "name": "ipython",
    "version": 3
   },
   "file_extension": ".py",
   "mimetype": "text/x-python",
   "name": "python",
   "nbconvert_exporter": "python",
   "pygments_lexer": "ipython3",
   "version": "3.12.3"
  }
 },
 "nbformat": 4,
 "nbformat_minor": 2
}
