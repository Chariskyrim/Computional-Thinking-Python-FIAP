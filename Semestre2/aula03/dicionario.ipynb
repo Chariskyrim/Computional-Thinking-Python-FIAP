{
 "cells": [
  {
   "cell_type": "markdown",
   "metadata": {},
   "source": [
    "## Dicionários \n",
    "\n",
    "Criando um dicionário vazio"
   ]
  },
  {
   "cell_type": "code",
   "execution_count": 6,
   "metadata": {},
   "outputs": [
    {
     "name": "stdout",
     "output_type": "stream",
     "text": [
      "{}\n"
     ]
    }
   ],
   "source": [
    "dados = dict()\n",
    "print(dados)"
   ]
  },
  {
   "cell_type": "markdown",
   "metadata": {},
   "source": [
    "Criando um dicionario com valores\n",
    "\n",
    "Sintaxe:\n",
    "\n",
    "nome_dicionario = {<br>\n",
    "    \"key1\": \"value1\",<br>\n",
    "    \"key2\": \"value2\"<br>\n",
    "}"
   ]
  },
  {
   "cell_type": "code",
   "execution_count": null,
   "metadata": {},
   "outputs": [
    {
     "name": "stdout",
     "output_type": "stream",
     "text": [
      "{'nome': 'Edson de Oliveira', 'idade': 50}\n"
     ]
    }
   ],
   "source": [
    "dados = {\n",
    "    \"nome\":\"Edson de Oliveira\",\n",
    "    \"idade\": 50\n",
    "}\n",
    "print(dados)"
   ]
  },
  {
   "cell_type": "markdown",
   "metadata": {},
   "source": [
    "Acrescentando uma key"
   ]
  },
  {
   "cell_type": "code",
   "execution_count": 14,
   "metadata": {},
   "outputs": [
    {
     "name": "stdout",
     "output_type": "stream",
     "text": [
      "{'nome': 'Edson de Oliveira', 'idade': 50, 'email': 'prof.edson.oliveira@hotmail.com'}\n"
     ]
    }
   ],
   "source": [
    "dados[\"email\"] = \"prof.edson.oliveira@hotmail.com\"\n",
    "print(dados)"
   ]
  },
  {
   "cell_type": "markdown",
   "metadata": {},
   "source": [
    "Exibindo os items"
   ]
  },
  {
   "cell_type": "code",
   "execution_count": 11,
   "metadata": {},
   "outputs": [
    {
     "name": "stdout",
     "output_type": "stream",
     "text": [
      "\n",
      "nome.....: Edson de Oliveira\n",
      "Idade....: 50\n",
      "E-mail...: prof.edson.oliveira@hotmail.com\n",
      "\n"
     ]
    }
   ],
   "source": [
    "print(f\"\"\"\n",
    "nome.....: {dados[\"nome\"]}\n",
    "Idade....: {dados[\"idade\"]}\n",
    "E-mail...: {dados[\"email\"]}\n",
    "\"\"\")"
   ]
  },
  {
   "cell_type": "markdown",
   "metadata": {},
   "source": [
    "Exercício:\n",
    "\n",
    "1.Fazer um procedimento que leia o dicionario acima\n",
    "\n",
    "2.Fazer um procedimento que exiba o dicionario acima"
   ]
  },
  {
   "cell_type": "code",
   "execution_count": 35,
   "metadata": {},
   "outputs": [],
   "source": [
    "def preenche_dicionario(d: dict) -> None:\n",
    "    d[\"nome\"] = input(\"Nome: \")\n",
    "    d[\"idade\"] = int(input(\"Idade\"))\n",
    "    d[\"email\"] = input(\"email: \")\n",
    "\n",
    "def exibe_dicionario(d: dict) -> None:\n",
    "    print(f\"\"\"\n",
    "nome.....: {d[\"nome\"]}\n",
    "Idade....: {d[\"idade\"]}\n",
    "E-mail...: {d(\"email\")}\n",
    "\"\"\")\n",
    "\n",
    "#preenche_dicionario(dados)\n",
    "#exibe_dicionario(dados)    \n"
   ]
  },
  {
   "cell_type": "markdown",
   "metadata": {},
   "source": [
    "Métodos que tratam dicionários\n",
    "\n",
    ".values() mostra os conteúdos\n",
    "\n",
    ".key() mostra as chaves\n",
    "\n",
    ".items() mostra os dois"
   ]
  },
  {
   "cell_type": "code",
   "execution_count": 26,
   "metadata": {},
   "outputs": [
    {
     "name": "stdout",
     "output_type": "stream",
     "text": [
      "dict_values(['Enzo', 20, 'jorge@gmail.com'])\n",
      "dict_keys(['nome', 'idade', 'email'])\n",
      "dict_items([('nome', 'Enzo'), ('idade', 20), ('email', 'jorge@gmail.com')])\n"
     ]
    }
   ],
   "source": [
    "print(dados.values())\n",
    "print(dados.keys())\n",
    "print(dados.items())"
   ]
  },
  {
   "cell_type": "code",
   "execution_count": 38,
   "metadata": {},
   "outputs": [
    {
     "name": "stdout",
     "output_type": "stream",
     "text": [
      "usando o items():\n",
      "O/A  nome é Enzo\n",
      "O/A  idade é 20\n",
      "O/A  email é jorge@gmail.com\n",
      "O/A  cel é (11) 934443938\n",
      "\n",
      "usando o keys():\n",
      "nome\n",
      "idade\n",
      "email\n",
      "cel\n",
      "\n",
      "usando o values():\n",
      "Enzo\n",
      "20\n",
      "jorge@gmail.com\n",
      "(11) 934443938\n"
     ]
    }
   ],
   "source": [
    "dados[\"cel\"] = \"(11) 934443938\"\n",
    "\n",
    "print(\"usando o items():\")\n",
    "for k, v in dados.items():\n",
    "    print(f\"O/A  {k} é {v}\")\n",
    "\n",
    "print(\"\\nusando o keys():\")\n",
    "for k in dados.keys():\n",
    "    print(k)\n",
    "print(\"\\nusando o values():\")\n",
    "for v in dados.values():\n",
    "    print(v)"
   ]
  },
  {
   "cell_type": "markdown",
   "metadata": {},
   "source": [
    "Sincronizando dicionarios: update()"
   ]
  },
  {
   "cell_type": "code",
   "execution_count": 47,
   "metadata": {},
   "outputs": [
    {
     "name": "stdout",
     "output_type": "stream",
     "text": [
      "Dicionario1:  {'Nome': 'Enzo', 'Idade': '20'}\n",
      "Dicionario2:  {'email': 'jorge@gmail.com', 'telefone': '(11) 987654321'}\n",
      "Dicionario1:  {'Nome': 'Enzo', 'Idade': '20', 'email': 'jorge@gmail.com', 'telefone': '(11) 987654321'}\n",
      "Dicionario2:  {'email': 'jorge@gmail.com', 'telefone': '(11) 987654321'}\n"
     ]
    }
   ],
   "source": [
    "dicionario1 = {\n",
    "    \"Nome\":\"Enzo\",\n",
    "    \"Idade\":\"20\"\n",
    "    }\n",
    "\n",
    "dicionario2 = {\n",
    "    \"email\":\"jorge@gmail.com\",\n",
    "    \"telefone\":\"(11) 987654321\"\n",
    "    }\n",
    "\n",
    "print(\"Dicionario1: \",dicionario1)\n",
    "print(\"Dicionario2: \",dicionario2)\n",
    "dicionario1.update(dicionario2)\n",
    "print(\"Dicionario1: \",dicionario1)\n",
    "print(\"Dicionario2: \",dicionario2)"
   ]
  },
  {
   "cell_type": "markdown",
   "metadata": {},
   "source": [
    "O pop() remove um elemento do dicionario pela chave"
   ]
  },
  {
   "cell_type": "code",
   "execution_count": null,
   "metadata": {},
   "outputs": [
    {
     "name": "stdout",
     "output_type": "stream",
     "text": [
      "(11) 987654321\n",
      "{'Nome': 'Enzo', 'Idade': '20', 'email': 'jorge@gmail.com'}\n"
     ]
    }
   ],
   "source": [
    "valor_removido = dicionario1.pop(\"telefone\")\n",
    "print(valor_removido)\n",
    "print(dicionario1)"
   ]
  },
  {
   "cell_type": "markdown",
   "metadata": {},
   "source": [
    "o metodo get() é usado para obter p valor de uma chave específica. Ele retorna o valor correspondente"
   ]
  },
  {
   "cell_type": "code",
   "execution_count": 50,
   "metadata": {},
   "outputs": [
    {
     "name": "stdout",
     "output_type": "stream",
     "text": [
      "Enzo\n",
      "{'Nome': 'Enzo', 'Idade': '20', 'email': 'jorge@gmail.com'}\n"
     ]
    }
   ],
   "source": [
    "valor = dicionario1.get(\"Nome\")\n",
    "print(valor)\n",
    "print(dicionario1)"
   ]
  }
 ],
 "metadata": {
  "kernelspec": {
   "display_name": "base",
   "language": "python",
   "name": "python3"
  },
  "language_info": {
   "codemirror_mode": {
    "name": "ipython",
    "version": 3
   },
   "file_extension": ".py",
   "mimetype": "text/x-python",
   "name": "python",
   "nbconvert_exporter": "python",
   "pygments_lexer": "ipython3",
   "version": "3.11.7"
  }
 },
 "nbformat": 4,
 "nbformat_minor": 2
}
